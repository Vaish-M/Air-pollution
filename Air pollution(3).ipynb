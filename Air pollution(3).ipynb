{
 "cells": [
  {
   "cell_type": "code",
   "execution_count": 1,
   "id": "7b21f896",
   "metadata": {},
   "outputs": [],
   "source": [
    "import pandas as pd\n",
    "import numpy as np\n",
    "import matplotlib.pyplot as plt\n",
    "import seaborn as sns"
   ]
  },
  {
   "cell_type": "code",
   "execution_count": 2,
   "id": "7ab7a153",
   "metadata": {},
   "outputs": [
    {
     "name": "stderr",
     "output_type": "stream",
     "text": [
      "C:\\ProgramData\\Anaconda3\\lib\\site-packages\\IPython\\core\\interactiveshell.py:3444: DtypeWarning: Columns (16,38) have mixed types.Specify dtype option on import or set low_memory=False.\n",
      "  exec(code_obj, self.user_global_ns, self.user_ns)\n"
     ]
    }
   ],
   "source": [
    "df1=pd.read_csv('C:\\\\Users\\\\student.IT.000\\\\Desktop\\\\IT\\DATA\\\\new.csv')"
   ]
  },
  {
   "cell_type": "code",
   "execution_count": 14,
   "id": "a59aef2a",
   "metadata": {},
   "outputs": [
    {
     "data": {
      "text/html": [
       "<div>\n",
       "<style scoped>\n",
       "    .dataframe tbody tr th:only-of-type {\n",
       "        vertical-align: middle;\n",
       "    }\n",
       "\n",
       "    .dataframe tbody tr th {\n",
       "        vertical-align: top;\n",
       "    }\n",
       "\n",
       "    .dataframe thead th {\n",
       "        text-align: right;\n",
       "    }\n",
       "</style>\n",
       "<table border=\"1\" class=\"dataframe\">\n",
       "  <thead>\n",
       "    <tr style=\"text-align: right;\">\n",
       "      <th></th>\n",
       "      <th>Unnamed: 0</th>\n",
       "      <th>StationId</th>\n",
       "      <th>Datetime</th>\n",
       "      <th>PM2.5</th>\n",
       "      <th>PM10</th>\n",
       "      <th>NO</th>\n",
       "      <th>NO2</th>\n",
       "      <th>NOx</th>\n",
       "      <th>NH3</th>\n",
       "      <th>CO</th>\n",
       "      <th>...</th>\n",
       "      <th>PM2.5_SubIndex</th>\n",
       "      <th>PM10_SubIndex</th>\n",
       "      <th>SO2_SubIndex</th>\n",
       "      <th>NOx_SubIndex</th>\n",
       "      <th>NH3_SubIndex</th>\n",
       "      <th>CO_SubIndex</th>\n",
       "      <th>O3_SubIndex</th>\n",
       "      <th>Checks</th>\n",
       "      <th>AQI_calculated</th>\n",
       "      <th>AQI_bucket_calculated</th>\n",
       "    </tr>\n",
       "  </thead>\n",
       "  <tbody>\n",
       "    <tr>\n",
       "      <th>0</th>\n",
       "      <td>0</td>\n",
       "      <td>AP001</td>\n",
       "      <td>2017-11-24 17:00:00</td>\n",
       "      <td>60.50</td>\n",
       "      <td>98.00</td>\n",
       "      <td>2.35</td>\n",
       "      <td>30.80</td>\n",
       "      <td>18.25</td>\n",
       "      <td>8.50</td>\n",
       "      <td>0.1</td>\n",
       "      <td>...</td>\n",
       "      <td>0.0</td>\n",
       "      <td>0.0</td>\n",
       "      <td>0.0</td>\n",
       "      <td>0.0</td>\n",
       "      <td>0.0</td>\n",
       "      <td>5.0</td>\n",
       "      <td>138.823529</td>\n",
       "      <td>2</td>\n",
       "      <td>NaN</td>\n",
       "      <td>NaN</td>\n",
       "    </tr>\n",
       "    <tr>\n",
       "      <th>1</th>\n",
       "      <td>1</td>\n",
       "      <td>AP001</td>\n",
       "      <td>2017-11-24 18:00:00</td>\n",
       "      <td>65.50</td>\n",
       "      <td>111.25</td>\n",
       "      <td>2.70</td>\n",
       "      <td>24.20</td>\n",
       "      <td>15.07</td>\n",
       "      <td>9.77</td>\n",
       "      <td>0.1</td>\n",
       "      <td>...</td>\n",
       "      <td>0.0</td>\n",
       "      <td>0.0</td>\n",
       "      <td>0.0</td>\n",
       "      <td>0.0</td>\n",
       "      <td>0.0</td>\n",
       "      <td>5.0</td>\n",
       "      <td>138.823529</td>\n",
       "      <td>2</td>\n",
       "      <td>NaN</td>\n",
       "      <td>NaN</td>\n",
       "    </tr>\n",
       "    <tr>\n",
       "      <th>2</th>\n",
       "      <td>2</td>\n",
       "      <td>AP001</td>\n",
       "      <td>2017-11-24 19:00:00</td>\n",
       "      <td>80.00</td>\n",
       "      <td>132.00</td>\n",
       "      <td>2.10</td>\n",
       "      <td>25.18</td>\n",
       "      <td>15.15</td>\n",
       "      <td>12.02</td>\n",
       "      <td>0.1</td>\n",
       "      <td>...</td>\n",
       "      <td>0.0</td>\n",
       "      <td>0.0</td>\n",
       "      <td>0.0</td>\n",
       "      <td>0.0</td>\n",
       "      <td>0.0</td>\n",
       "      <td>5.0</td>\n",
       "      <td>138.823529</td>\n",
       "      <td>2</td>\n",
       "      <td>NaN</td>\n",
       "      <td>NaN</td>\n",
       "    </tr>\n",
       "    <tr>\n",
       "      <th>3</th>\n",
       "      <td>3</td>\n",
       "      <td>AP001</td>\n",
       "      <td>2017-11-24 20:00:00</td>\n",
       "      <td>81.50</td>\n",
       "      <td>133.25</td>\n",
       "      <td>1.95</td>\n",
       "      <td>16.25</td>\n",
       "      <td>10.23</td>\n",
       "      <td>11.58</td>\n",
       "      <td>0.1</td>\n",
       "      <td>...</td>\n",
       "      <td>0.0</td>\n",
       "      <td>0.0</td>\n",
       "      <td>0.0</td>\n",
       "      <td>0.0</td>\n",
       "      <td>0.0</td>\n",
       "      <td>5.0</td>\n",
       "      <td>138.823529</td>\n",
       "      <td>2</td>\n",
       "      <td>NaN</td>\n",
       "      <td>NaN</td>\n",
       "    </tr>\n",
       "    <tr>\n",
       "      <th>4</th>\n",
       "      <td>4</td>\n",
       "      <td>AP001</td>\n",
       "      <td>2017-11-24 21:00:00</td>\n",
       "      <td>75.25</td>\n",
       "      <td>116.00</td>\n",
       "      <td>1.43</td>\n",
       "      <td>17.48</td>\n",
       "      <td>10.43</td>\n",
       "      <td>12.03</td>\n",
       "      <td>0.1</td>\n",
       "      <td>...</td>\n",
       "      <td>0.0</td>\n",
       "      <td>0.0</td>\n",
       "      <td>0.0</td>\n",
       "      <td>0.0</td>\n",
       "      <td>0.0</td>\n",
       "      <td>5.0</td>\n",
       "      <td>138.823529</td>\n",
       "      <td>2</td>\n",
       "      <td>NaN</td>\n",
       "      <td>NaN</td>\n",
       "    </tr>\n",
       "  </tbody>\n",
       "</table>\n",
       "<p>5 rows × 39 columns</p>\n",
       "</div>"
      ],
      "text/plain": [
       "   Unnamed: 0 StationId             Datetime  PM2.5    PM10    NO    NO2  \\\n",
       "0           0     AP001  2017-11-24 17:00:00  60.50   98.00  2.35  30.80   \n",
       "1           1     AP001  2017-11-24 18:00:00  65.50  111.25  2.70  24.20   \n",
       "2           2     AP001  2017-11-24 19:00:00  80.00  132.00  2.10  25.18   \n",
       "3           3     AP001  2017-11-24 20:00:00  81.50  133.25  1.95  16.25   \n",
       "4           4     AP001  2017-11-24 21:00:00  75.25  116.00  1.43  17.48   \n",
       "\n",
       "     NOx    NH3   CO  ...  PM2.5_SubIndex  PM10_SubIndex  SO2_SubIndex  \\\n",
       "0  18.25   8.50  0.1  ...             0.0            0.0           0.0   \n",
       "1  15.07   9.77  0.1  ...             0.0            0.0           0.0   \n",
       "2  15.15  12.02  0.1  ...             0.0            0.0           0.0   \n",
       "3  10.23  11.58  0.1  ...             0.0            0.0           0.0   \n",
       "4  10.43  12.03  0.1  ...             0.0            0.0           0.0   \n",
       "\n",
       "   NOx_SubIndex  NH3_SubIndex  CO_SubIndex O3_SubIndex Checks AQI_calculated  \\\n",
       "0           0.0           0.0          5.0  138.823529      2            NaN   \n",
       "1           0.0           0.0          5.0  138.823529      2            NaN   \n",
       "2           0.0           0.0          5.0  138.823529      2            NaN   \n",
       "3           0.0           0.0          5.0  138.823529      2            NaN   \n",
       "4           0.0           0.0          5.0  138.823529      2            NaN   \n",
       "\n",
       "  AQI_bucket_calculated  \n",
       "0                   NaN  \n",
       "1                   NaN  \n",
       "2                   NaN  \n",
       "3                   NaN  \n",
       "4                   NaN  \n",
       "\n",
       "[5 rows x 39 columns]"
      ]
     },
     "execution_count": 14,
     "metadata": {},
     "output_type": "execute_result"
    }
   ],
   "source": [
    "df1.head()"
   ]
  },
  {
   "cell_type": "code",
   "execution_count": 4,
   "id": "4af40af8",
   "metadata": {},
   "outputs": [
    {
     "data": {
      "text/plain": [
       "array(['Amaravati', 'Visakhapatnam', 'Guwahati', 'Patna', 'Chandigarh',\n",
       "       'Delhi', 'Ahmedabad', 'Gurugram', 'Jorapokhar', 'Bengaluru',\n",
       "       'Ernakulam', 'Kochi', 'Thiruvananthapuram', 'Mumbai', 'Shillong',\n",
       "       'Bhopal', 'Aizawl', 'Brajrajnagar', 'Talcher', 'Amritsar',\n",
       "       'Jaipur', 'Hyderabad', 'Chennai', 'Coimbatore', 'Lucknow',\n",
       "       'Kolkata'], dtype=object)"
      ]
     },
     "execution_count": 4,
     "metadata": {},
     "output_type": "execute_result"
    }
   ],
   "source": [
    "df1['City'].unique()"
   ]
  },
  {
   "cell_type": "code",
   "execution_count": 5,
   "id": "0c4cfd23",
   "metadata": {},
   "outputs": [],
   "source": [
    "df = df1[df1['City']=='Delhi']"
   ]
  },
  {
   "cell_type": "code",
   "execution_count": 6,
   "id": "e14fa342",
   "metadata": {},
   "outputs": [
    {
     "data": {
      "text/html": [
       "<div>\n",
       "<style scoped>\n",
       "    .dataframe tbody tr th:only-of-type {\n",
       "        vertical-align: middle;\n",
       "    }\n",
       "\n",
       "    .dataframe tbody tr th {\n",
       "        vertical-align: top;\n",
       "    }\n",
       "\n",
       "    .dataframe thead th {\n",
       "        text-align: right;\n",
       "    }\n",
       "</style>\n",
       "<table border=\"1\" class=\"dataframe\">\n",
       "  <thead>\n",
       "    <tr style=\"text-align: right;\">\n",
       "      <th></th>\n",
       "      <th>Unnamed: 0</th>\n",
       "      <th>StationId</th>\n",
       "      <th>Datetime</th>\n",
       "      <th>PM2.5</th>\n",
       "      <th>PM10</th>\n",
       "      <th>NO</th>\n",
       "      <th>NO2</th>\n",
       "      <th>NOx</th>\n",
       "      <th>NH3</th>\n",
       "      <th>CO</th>\n",
       "      <th>...</th>\n",
       "      <th>PM2.5_SubIndex</th>\n",
       "      <th>PM10_SubIndex</th>\n",
       "      <th>SO2_SubIndex</th>\n",
       "      <th>NOx_SubIndex</th>\n",
       "      <th>NH3_SubIndex</th>\n",
       "      <th>CO_SubIndex</th>\n",
       "      <th>O3_SubIndex</th>\n",
       "      <th>Checks</th>\n",
       "      <th>AQI_calculated</th>\n",
       "      <th>AQI_bucket_calculated</th>\n",
       "    </tr>\n",
       "  </thead>\n",
       "  <tbody>\n",
       "    <tr>\n",
       "      <th>141133</th>\n",
       "      <td>141133</td>\n",
       "      <td>DL001</td>\n",
       "      <td>2018-11-11 15:00:00</td>\n",
       "      <td>130.00</td>\n",
       "      <td>274.00</td>\n",
       "      <td>1.70</td>\n",
       "      <td>54.00</td>\n",
       "      <td>30.10</td>\n",
       "      <td>NaN</td>\n",
       "      <td>0.80</td>\n",
       "      <td>...</td>\n",
       "      <td>0.0</td>\n",
       "      <td>0.0</td>\n",
       "      <td>0.0</td>\n",
       "      <td>0.0</td>\n",
       "      <td>0.0</td>\n",
       "      <td>40.0</td>\n",
       "      <td>0.000000</td>\n",
       "      <td>1</td>\n",
       "      <td>NaN</td>\n",
       "      <td>NaN</td>\n",
       "    </tr>\n",
       "    <tr>\n",
       "      <th>141134</th>\n",
       "      <td>141134</td>\n",
       "      <td>DL001</td>\n",
       "      <td>2018-11-11 16:00:00</td>\n",
       "      <td>133.25</td>\n",
       "      <td>279.00</td>\n",
       "      <td>1.70</td>\n",
       "      <td>55.07</td>\n",
       "      <td>30.67</td>\n",
       "      <td>25.55</td>\n",
       "      <td>0.83</td>\n",
       "      <td>...</td>\n",
       "      <td>0.0</td>\n",
       "      <td>0.0</td>\n",
       "      <td>0.0</td>\n",
       "      <td>0.0</td>\n",
       "      <td>0.0</td>\n",
       "      <td>41.5</td>\n",
       "      <td>0.000000</td>\n",
       "      <td>1</td>\n",
       "      <td>NaN</td>\n",
       "      <td>NaN</td>\n",
       "    </tr>\n",
       "    <tr>\n",
       "      <th>141135</th>\n",
       "      <td>141135</td>\n",
       "      <td>DL001</td>\n",
       "      <td>2018-11-11 17:00:00</td>\n",
       "      <td>140.25</td>\n",
       "      <td>284.25</td>\n",
       "      <td>1.58</td>\n",
       "      <td>55.88</td>\n",
       "      <td>30.97</td>\n",
       "      <td>24.30</td>\n",
       "      <td>0.85</td>\n",
       "      <td>...</td>\n",
       "      <td>0.0</td>\n",
       "      <td>0.0</td>\n",
       "      <td>0.0</td>\n",
       "      <td>0.0</td>\n",
       "      <td>0.0</td>\n",
       "      <td>42.5</td>\n",
       "      <td>107.691176</td>\n",
       "      <td>2</td>\n",
       "      <td>NaN</td>\n",
       "      <td>NaN</td>\n",
       "    </tr>\n",
       "    <tr>\n",
       "      <th>141136</th>\n",
       "      <td>141136</td>\n",
       "      <td>DL001</td>\n",
       "      <td>2018-11-11 18:00:00</td>\n",
       "      <td>153.25</td>\n",
       "      <td>332.00</td>\n",
       "      <td>1.63</td>\n",
       "      <td>64.05</td>\n",
       "      <td>35.40</td>\n",
       "      <td>28.57</td>\n",
       "      <td>1.53</td>\n",
       "      <td>...</td>\n",
       "      <td>0.0</td>\n",
       "      <td>0.0</td>\n",
       "      <td>0.0</td>\n",
       "      <td>0.0</td>\n",
       "      <td>0.0</td>\n",
       "      <td>76.5</td>\n",
       "      <td>107.691176</td>\n",
       "      <td>2</td>\n",
       "      <td>NaN</td>\n",
       "      <td>NaN</td>\n",
       "    </tr>\n",
       "    <tr>\n",
       "      <th>141137</th>\n",
       "      <td>141137</td>\n",
       "      <td>DL001</td>\n",
       "      <td>2018-11-11 19:00:00</td>\n",
       "      <td>247.00</td>\n",
       "      <td>575.00</td>\n",
       "      <td>1.75</td>\n",
       "      <td>80.07</td>\n",
       "      <td>43.98</td>\n",
       "      <td>37.90</td>\n",
       "      <td>1.68</td>\n",
       "      <td>...</td>\n",
       "      <td>0.0</td>\n",
       "      <td>0.0</td>\n",
       "      <td>0.0</td>\n",
       "      <td>0.0</td>\n",
       "      <td>0.0</td>\n",
       "      <td>84.0</td>\n",
       "      <td>107.691176</td>\n",
       "      <td>2</td>\n",
       "      <td>NaN</td>\n",
       "      <td>NaN</td>\n",
       "    </tr>\n",
       "  </tbody>\n",
       "</table>\n",
       "<p>5 rows × 39 columns</p>\n",
       "</div>"
      ],
      "text/plain": [
       "        Unnamed: 0 StationId             Datetime   PM2.5    PM10    NO  \\\n",
       "141133      141133     DL001  2018-11-11 15:00:00  130.00  274.00  1.70   \n",
       "141134      141134     DL001  2018-11-11 16:00:00  133.25  279.00  1.70   \n",
       "141135      141135     DL001  2018-11-11 17:00:00  140.25  284.25  1.58   \n",
       "141136      141136     DL001  2018-11-11 18:00:00  153.25  332.00  1.63   \n",
       "141137      141137     DL001  2018-11-11 19:00:00  247.00  575.00  1.75   \n",
       "\n",
       "          NO2    NOx    NH3    CO  ...  PM2.5_SubIndex  PM10_SubIndex  \\\n",
       "141133  54.00  30.10    NaN  0.80  ...             0.0            0.0   \n",
       "141134  55.07  30.67  25.55  0.83  ...             0.0            0.0   \n",
       "141135  55.88  30.97  24.30  0.85  ...             0.0            0.0   \n",
       "141136  64.05  35.40  28.57  1.53  ...             0.0            0.0   \n",
       "141137  80.07  43.98  37.90  1.68  ...             0.0            0.0   \n",
       "\n",
       "        SO2_SubIndex  NOx_SubIndex  NH3_SubIndex  CO_SubIndex O3_SubIndex  \\\n",
       "141133           0.0           0.0           0.0         40.0    0.000000   \n",
       "141134           0.0           0.0           0.0         41.5    0.000000   \n",
       "141135           0.0           0.0           0.0         42.5  107.691176   \n",
       "141136           0.0           0.0           0.0         76.5  107.691176   \n",
       "141137           0.0           0.0           0.0         84.0  107.691176   \n",
       "\n",
       "       Checks AQI_calculated AQI_bucket_calculated  \n",
       "141133      1            NaN                   NaN  \n",
       "141134      1            NaN                   NaN  \n",
       "141135      2            NaN                   NaN  \n",
       "141136      2            NaN                   NaN  \n",
       "141137      2            NaN                   NaN  \n",
       "\n",
       "[5 rows x 39 columns]"
      ]
     },
     "execution_count": 6,
     "metadata": {},
     "output_type": "execute_result"
    }
   ],
   "source": [
    "df.head()"
   ]
  },
  {
   "cell_type": "code",
   "execution_count": 7,
   "id": "65b7cfb5",
   "metadata": {},
   "outputs": [
    {
     "data": {
      "text/plain": [
       "(1087388, 39)"
      ]
     },
     "execution_count": 7,
     "metadata": {},
     "output_type": "execute_result"
    }
   ],
   "source": [
    "df.shape"
   ]
  },
  {
   "cell_type": "code",
   "execution_count": 8,
   "id": "5cfa246c",
   "metadata": {},
   "outputs": [
    {
     "name": "stdout",
     "output_type": "stream",
     "text": [
      "<class 'pandas.core.frame.DataFrame'>\n",
      "Int64Index: 1087388 entries, 141133 to 1228520\n",
      "Data columns (total 39 columns):\n",
      " #   Column                 Non-Null Count    Dtype  \n",
      "---  ------                 --------------    -----  \n",
      " 0   Unnamed: 0             1087388 non-null  int64  \n",
      " 1   StationId              1087388 non-null  object \n",
      " 2   Datetime               1087388 non-null  object \n",
      " 3   PM2.5                  839384 non-null   float64\n",
      " 4   PM10                   738227 non-null   float64\n",
      " 5   NO                     865010 non-null   float64\n",
      " 6   NO2                    868950 non-null   float64\n",
      " 7   NOx                    903574 non-null   float64\n",
      " 8   NH3                    628602 non-null   float64\n",
      " 9   CO                     854290 non-null   float64\n",
      " 10  SO2                    695728 non-null   float64\n",
      " 11  O3                     824119 non-null   float64\n",
      " 12  Benzene                730589 non-null   float64\n",
      " 13  Toluene                691661 non-null   float64\n",
      " 14  Xylene                 114594 non-null   float64\n",
      " 15  AQI                    846100 non-null   float64\n",
      " 16  AQI_Bucket             846100 non-null   object \n",
      " 17  StationName            1087388 non-null  object \n",
      " 18  City                   1087388 non-null  object \n",
      " 19  State                  1087388 non-null  object \n",
      " 20  Status                 1087388 non-null  object \n",
      " 21  Date                   1087388 non-null  object \n",
      " 22  PM10_24hr_avg          735336 non-null   float64\n",
      " 23  PM2.5_24hr_avg         834604 non-null   float64\n",
      " 24  SO2_24hr_avg           695303 non-null   float64\n",
      " 25  NOx_24hr_avg           898237 non-null   float64\n",
      " 26  NH3_24hr_avg           624008 non-null   float64\n",
      " 27  CO_8hr_max             887380 non-null   float64\n",
      " 28  O3_8hr_max             847604 non-null   float64\n",
      " 29  PM2.5_SubIndex         1087388 non-null  float64\n",
      " 30  PM10_SubIndex          1087388 non-null  float64\n",
      " 31  SO2_SubIndex           1087388 non-null  float64\n",
      " 32  NOx_SubIndex           1087388 non-null  float64\n",
      " 33  NH3_SubIndex           1087388 non-null  float64\n",
      " 34  CO_SubIndex            1087388 non-null  float64\n",
      " 35  O3_SubIndex            1087388 non-null  float64\n",
      " 36  Checks                 1087388 non-null  int64  \n",
      " 37  AQI_calculated         847664 non-null   float64\n",
      " 38  AQI_bucket_calculated  847664 non-null   object \n",
      "dtypes: float64(28), int64(2), object(9)\n",
      "memory usage: 331.8+ MB\n"
     ]
    }
   ],
   "source": [
    "df.info()"
   ]
  },
  {
   "cell_type": "code",
   "execution_count": 9,
   "id": "29b3e2f6",
   "metadata": {},
   "outputs": [
    {
     "ename": "SyntaxError",
     "evalue": "invalid syntax (Temp/ipykernel_12868/3236109618.py, line 1)",
     "output_type": "error",
     "traceback": [
      "\u001b[1;36m  File \u001b[1;32m\"C:\\Users\\STUDEN~1.000\\AppData\\Local\\Temp/ipykernel_12868/3236109618.py\"\u001b[1;36m, line \u001b[1;32m1\u001b[0m\n\u001b[1;33m    def encode()\u001b[0m\n\u001b[1;37m                ^\u001b[0m\n\u001b[1;31mSyntaxError\u001b[0m\u001b[1;31m:\u001b[0m invalid syntax\n"
     ]
    }
   ],
   "source": [
    "def encode()"
   ]
  },
  {
   "cell_type": "code",
   "execution_count": null,
   "id": "f7478cb8",
   "metadata": {},
   "outputs": [],
   "source": [
    "df1.isnull().sum()"
   ]
  },
  {
   "cell_type": "code",
   "execution_count": 10,
   "id": "d0d2cbfa",
   "metadata": {},
   "outputs": [],
   "source": [
    "\n",
    "df1['AQI']=df1['AQI'].fillna(df1['AQI'].mean())\n",
    "df1['PM10']=df1['PM10'].fillna(df1['PM10'].mean())\n",
    "df1['NO']=df1['NO'].fillna(df1['NO'].mean())\n",
    "df1['NO2']=df1['NO2'].fillna(df1['NO2'].mean())\n",
    "df1['NOx']=df1['NOx'].fillna(df1['NOx'].mean())\n",
    "df1['NH3']=df1['NH3'].fillna(df1['NH3'].mean())\n",
    "df1['SO2']=df1['SO2'].fillna(df1['SO2'].mean())\n",
    "df1['O3']=df1['O3'].fillna(df1['O3'].mean())\n",
    "df1['Benzene']=df1['Benzene'].fillna(df1['Benzene'].mean())\n",
    "df1['Toluene']=df1['Toluene'].fillna(df1['Toluene'].mean())\n",
    "df1['Xylene']=df1['Xylene'].fillna(df1['Xylene'].mean())\n",
    "df1['CO']=df1['CO'].fillna(df1['CO'].mean())"
   ]
  },
  {
   "cell_type": "code",
   "execution_count": null,
   "id": "b545edf4",
   "metadata": {},
   "outputs": [],
   "source": [
    "df1.isnull().sum()"
   ]
  },
  {
   "cell_type": "code",
   "execution_count": null,
   "id": "c5a59592",
   "metadata": {},
   "outputs": [],
   "source": [
    "sns.heatmap(df.corr())"
   ]
  },
  {
   "cell_type": "code",
   "execution_count": null,
   "id": "6642a743",
   "metadata": {},
   "outputs": [],
   "source": [
    "df.describe()"
   ]
  },
  {
   "cell_type": "code",
   "execution_count": null,
   "id": "bebb5ac5",
   "metadata": {},
   "outputs": [],
   "source": [
    "sns.boxplot(data=df)"
   ]
  },
  {
   "cell_type": "code",
   "execution_count": null,
   "id": "49bb2da5",
   "metadata": {},
   "outputs": [],
   "source": [
    "drop_outlier = df[(df['AQI']>500) | (df['PM2.5']>180) | (df['NO']>65) |(df['NH3']>50) | (df['NO2']>90) | (df['NOx']>100) | (df['PM10']>450)].index"
   ]
  },
  {
   "cell_type": "code",
   "execution_count": null,
   "id": "bd94e45a",
   "metadata": {},
   "outputs": [],
   "source": [
    "df = df.drop(drop_outlier)\n"
   ]
  },
  {
   "cell_type": "code",
   "execution_count": null,
   "id": "a7e50d32",
   "metadata": {},
   "outputs": [],
   "source": [
    "df.info()"
   ]
  },
  {
   "cell_type": "code",
   "execution_count": null,
   "id": "d9c52bc3",
   "metadata": {},
   "outputs": [],
   "source": [
    "sns.boxplot(data= df)"
   ]
  },
  {
   "cell_type": "code",
   "execution_count": null,
   "id": "6a49a09b",
   "metadata": {},
   "outputs": [],
   "source": [
    "plt.figure(figsize=(8,4),dpi=200)\n",
    "palette ={'Good': \"g\", 'Poor': \"C0\", 'Very Poor': \"C1\",'Severe': \"r\",\"Moderate\": 'b',\"Satisfactory\":'y'}\n",
    "sns.scatterplot(x= 'AQI', y= 'PM2.5', data=df,hue ='AQI_Bucket',palette = palette, ci= None)"
   ]
  },
  {
   "cell_type": "code",
   "execution_count": null,
   "id": "0132a878",
   "metadata": {},
   "outputs": [],
   "source": [
    "plt.figure(figsize=(8,4),dpi=200)\n",
    "palette ={'Good': \"g\", 'Poor': \"C0\", 'Very Poor': \"C1\",'Severe': \"r\",\"Moderate\": 'b',\"Satisfactory\":'y'}\n",
    "sns.scatterplot(x= 'AQI', y= 'NO2', data=df,hue ='AQI_Bucket',palette = palette, ci= None)"
   ]
  },
  {
   "cell_type": "code",
   "execution_count": null,
   "id": "22739a2c",
   "metadata": {},
   "outputs": [],
   "source": [
    "plt.figure(figsize=(8,4),dpi=200)\n",
    "palette ={'Good': \"g\", 'Poor': \"C0\", 'Very Poor': \"C1\",'Severe': \"r\",\"Moderate\": 'b',\"Satisfactory\":'y'}\n",
    "sns.scatterplot(x= 'AQI', y= 'NH3', data=df,hue ='AQI_Bucket',palette = palette, ci= None)"
   ]
  },
  {
   "cell_type": "code",
   "execution_count": null,
   "id": "c1d7f0ea",
   "metadata": {},
   "outputs": [],
   "source": [
    "plt.figure(figsize=(8,4),dpi=200)\n",
    "palette ={'Good': \"g\", 'Poor': \"C0\", 'Very Poor': \"C1\",'Severe': \"r\",\"Moderate\": 'b',\"Satisfactory\":'y'}\n",
    "sns.scatterplot(x= 'AQI', y= 'NOx', data=df,hue ='AQI_Bucket',palette = palette, ci= None)"
   ]
  },
  {
   "cell_type": "code",
   "execution_count": null,
   "id": "d0c0da82",
   "metadata": {},
   "outputs": [],
   "source": [
    "sns.heatmap(df.corr())"
   ]
  },
  {
   "cell_type": "code",
   "execution_count": null,
   "id": "67caa0b1",
   "metadata": {},
   "outputs": [],
   "source": [
    "df1"
   ]
  },
  {
   "cell_type": "code",
   "execution_count": null,
   "id": "9a235186",
   "metadata": {},
   "outputs": [],
   "source": [
    "sns.heatmap(df1.corr())"
   ]
  },
  {
   "cell_type": "code",
   "execution_count": null,
   "id": "1c6944cb",
   "metadata": {},
   "outputs": [],
   "source": [
    "plt.figure(figsize=(8,4),dpi=200)\n",
    "palette ={'Good': \"g\", 'Poor': \"C0\", 'Very Poor': \"C1\",'Severe': \"r\",\"Moderate\": 'b',\"Satisfactory\":'y'}\n",
    "sns.scatterplot(x= 'AQI', y= 'PM10', data=df,hue ='AQI_Bucket',palette = palette, ci= None)"
   ]
  },
  {
   "cell_type": "code",
   "execution_count": null,
   "id": "138285a5",
   "metadata": {},
   "outputs": [],
   "source": [
    "drop_outlier1 = df[(df['AQI']<165) & (df['PM10']>200)].index\n",
    "drop_outlier2 = df[(df['AQI']>200) & (df['PM10']<110)].index\n",
    "df = df.drop(drop_outlier1)\n",
    "df = df.drop(drop_outlier2)\n",
    "\n"
   ]
  },
  {
   "cell_type": "code",
   "execution_count": null,
   "id": "2515774e",
   "metadata": {},
   "outputs": [],
   "source": [
    "plt.figure(figsize=(8,4),dpi=200)\n",
    "palette ={'Good': \"g\", 'Poor': \"C0\", 'Very Poor': \"C1\",'Severe': \"r\",\"Moderate\": 'b',\"Satisfactory\":'y'}\n",
    "sns.scatterplot(x= 'AQI', y= 'PM10', data=df,hue ='AQI_Bucket',palette = palette, ci= None)"
   ]
  },
  {
   "cell_type": "code",
   "execution_count": null,
   "id": "d9003435",
   "metadata": {},
   "outputs": [],
   "source": [
    "plt.figure(figsize=(12,4),dpi=200)\n",
    "palette ={'Good': \"g\", 'Poor': \"C0\", 'Very Poor': \"C1\",'Severe': \"r\",\"Moderate\": 'b',\"Satisfactory\":'y'}\n",
    "sns.scatterplot(x= 'AQI', y= 'PM2.5', data=df,hue ='AQI_Bucket',palette = palette, ci= None)"
   ]
  },
  {
   "cell_type": "code",
   "execution_count": null,
   "id": "a1e8acad",
   "metadata": {},
   "outputs": [],
   "source": [
    "df.info()"
   ]
  },
  {
   "cell_type": "code",
   "execution_count": null,
   "id": "aa9ca2eb",
   "metadata": {},
   "outputs": [],
   "source": []
  },
  {
   "cell_type": "code",
   "execution_count": null,
   "id": "9f1d98bb",
   "metadata": {},
   "outputs": [],
   "source": []
  },
  {
   "cell_type": "code",
   "execution_count": null,
   "id": "a73d7651",
   "metadata": {},
   "outputs": [],
   "source": [
    "sns.boxplot(data=X)"
   ]
  },
  {
   "cell_type": "code",
   "execution_count": null,
   "id": "4d042156",
   "metadata": {},
   "outputs": [],
   "source": [
    "sns.pairplot(data=X)"
   ]
  },
  {
   "cell_type": "code",
   "execution_count": null,
   "id": "c35a0699",
   "metadata": {},
   "outputs": [],
   "source": [
    "X.info()"
   ]
  },
  {
   "cell_type": "code",
   "execution_count": null,
   "id": "9dc4de7a",
   "metadata": {},
   "outputs": [],
   "source": [
    "from sklearn.model_selection import train_test_split"
   ]
  },
  {
   "cell_type": "code",
   "execution_count": null,
   "id": "0f052ae1",
   "metadata": {},
   "outputs": [],
   "source": [
    "X_train, X_test, y_train, y_test = train_test_split(X, y, test_size=0.30, random_state=101)"
   ]
  },
  {
   "cell_type": "code",
   "execution_count": null,
   "id": "e293c34f",
   "metadata": {},
   "outputs": [],
   "source": [
    "from sklearn.preprocessing import StandardScaler"
   ]
  },
  {
   "cell_type": "code",
   "execution_count": null,
   "id": "4a8a41b9",
   "metadata": {},
   "outputs": [],
   "source": [
    "Scaler = StandardScaler()"
   ]
  },
  {
   "cell_type": "code",
   "execution_count": null,
   "id": "241123a3",
   "metadata": {},
   "outputs": [],
   "source": [
    "scaled_X_train = Scaler.fit_transform(X_train)\n",
    "scaled_X_test = Scaler.transform(X_test)"
   ]
  },
  {
   "cell_type": "code",
   "execution_count": null,
   "id": "b830a6d1",
   "metadata": {},
   "outputs": [],
   "source": [
    "from sklearn.svm import SVR"
   ]
  },
  {
   "cell_type": "code",
   "execution_count": 11,
   "id": "404d7dc0",
   "metadata": {},
   "outputs": [],
   "source": [
    "param_grid = {'C':[0.001,0.01,0.1,0.5,1],\n",
    "             'kernel':['linear','rbf','poly'],\n",
    "              'gamma':['scale','auto'],\n",
    "              'degree':[2,3,4],\n",
    "              'epsilon':[0,0.01,0.1,0.5,1,2]}"
   ]
  },
  {
   "cell_type": "code",
   "execution_count": 12,
   "id": "15fa6520",
   "metadata": {},
   "outputs": [],
   "source": [
    "from sklearn.model_selection import GridSearchCV"
   ]
  },
  {
   "cell_type": "code",
   "execution_count": 13,
   "id": "e7e3d9db",
   "metadata": {},
   "outputs": [
    {
     "ename": "NameError",
     "evalue": "name 'SVR' is not defined",
     "output_type": "error",
     "traceback": [
      "\u001b[1;31m---------------------------------------------------------------------------\u001b[0m",
      "\u001b[1;31mNameError\u001b[0m                                 Traceback (most recent call last)",
      "\u001b[1;32mC:\\Users\\STUDEN~1.000\\AppData\\Local\\Temp/ipykernel_12868/3965220564.py\u001b[0m in \u001b[0;36m<module>\u001b[1;34m\u001b[0m\n\u001b[1;32m----> 1\u001b[1;33m \u001b[0msvr\u001b[0m \u001b[1;33m=\u001b[0m \u001b[0mSVR\u001b[0m\u001b[1;33m(\u001b[0m\u001b[1;33m)\u001b[0m\u001b[1;33m\u001b[0m\u001b[1;33m\u001b[0m\u001b[0m\n\u001b[0m\u001b[0;32m      2\u001b[0m \u001b[0mgrid\u001b[0m \u001b[1;33m=\u001b[0m \u001b[0mGridSearchCV\u001b[0m\u001b[1;33m(\u001b[0m\u001b[0msvr\u001b[0m\u001b[1;33m,\u001b[0m\u001b[0mparam_grid\u001b[0m\u001b[1;33m=\u001b[0m\u001b[0mparam_grid\u001b[0m\u001b[1;33m)\u001b[0m\u001b[1;33m\u001b[0m\u001b[1;33m\u001b[0m\u001b[0m\n",
      "\u001b[1;31mNameError\u001b[0m: name 'SVR' is not defined"
     ]
    }
   ],
   "source": [
    "svr = SVR()\n",
    "grid = GridSearchCV(svr,param_grid=param_grid)"
   ]
  },
  {
   "cell_type": "code",
   "execution_count": null,
   "id": "124a0b1c",
   "metadata": {
    "scrolled": false
   },
   "outputs": [],
   "source": [
    "grid.fit(scaled_X_train,y_train)"
   ]
  },
  {
   "cell_type": "code",
   "execution_count": null,
   "id": "4425e169",
   "metadata": {},
   "outputs": [],
   "source": [
    "grid.best_params_"
   ]
  },
  {
   "cell_type": "code",
   "execution_count": null,
   "id": "4447bec0",
   "metadata": {},
   "outputs": [],
   "source": [
    "model_predict=grid.predict(scaled_X_test)"
   ]
  },
  {
   "cell_type": "code",
   "execution_count": null,
   "id": "ab8c17e0",
   "metadata": {},
   "outputs": [],
   "source": [
    "model_predict[:10]"
   ]
  },
  {
   "cell_type": "code",
   "execution_count": null,
   "id": "f099e4bd",
   "metadata": {},
   "outputs": [],
   "source": [
    "from sklearn.metrics import mean_absolute_error, mean_squared_error"
   ]
  },
  {
   "cell_type": "code",
   "execution_count": null,
   "id": "4d1ea66e",
   "metadata": {},
   "outputs": [],
   "source": [
    "mean_squared_error(model_predict, y_test)"
   ]
  },
  {
   "cell_type": "code",
   "execution_count": null,
   "id": "a2219af7",
   "metadata": {},
   "outputs": [],
   "source": [
    "np.sqrt(mean_squared_error(y_test,model_predict))"
   ]
  },
  {
   "cell_type": "code",
   "execution_count": null,
   "id": "02037c50",
   "metadata": {},
   "outputs": [],
   "source": [
    "x=np.arange(0,len(y_test))\n",
    "print(x)"
   ]
  },
  {
   "cell_type": "code",
   "execution_count": null,
   "id": "53abe221",
   "metadata": {},
   "outputs": [],
   "source": [
    "fig = plt.figure(figsize =(12,8), dpi=200)\n",
    "\n",
    "# Add set of axes to figure\n",
    "axes = fig.add_axes([0, 0, 1, 1]) # left, bottom, width, height (range 0 to 1)\n",
    "\n",
    "# Plot on that set of axes\n",
    "axes.plot(x[0:50], y_test[0:50], label='y_test')\n",
    "axes.plot(x[0:50], model_predict[0:50], label='predict')\n",
    "plt.legend()\n",
    "plt.show()"
   ]
  },
  {
   "cell_type": "code",
   "execution_count": null,
   "id": "1e99683f",
   "metadata": {},
   "outputs": [],
   "source": []
  },
  {
   "cell_type": "code",
   "execution_count": null,
   "id": "150e3c34",
   "metadata": {},
   "outputs": [],
   "source": []
  },
  {
   "cell_type": "code",
   "execution_count": null,
   "id": "ca38626c",
   "metadata": {},
   "outputs": [],
   "source": []
  },
  {
   "cell_type": "code",
   "execution_count": null,
   "id": "d29d090b",
   "metadata": {},
   "outputs": [],
   "source": []
  },
  {
   "cell_type": "code",
   "execution_count": null,
   "id": "aedee39f",
   "metadata": {},
   "outputs": [],
   "source": []
  }
 ],
 "metadata": {
  "kernelspec": {
   "display_name": "Python 3 (ipykernel)",
   "language": "python",
   "name": "python3"
  },
  "language_info": {
   "codemirror_mode": {
    "name": "ipython",
    "version": 3
   },
   "file_extension": ".py",
   "mimetype": "text/x-python",
   "name": "python",
   "nbconvert_exporter": "python",
   "pygments_lexer": "ipython3",
   "version": "3.9.7"
  }
 },
 "nbformat": 4,
 "nbformat_minor": 5
}
